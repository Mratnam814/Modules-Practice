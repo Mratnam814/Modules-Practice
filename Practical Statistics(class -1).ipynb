{
 "cells": [
  {
   "cell_type": "code",
   "execution_count": 20,
   "id": "19b1a794",
   "metadata": {},
   "outputs": [],
   "source": [
    "import statistics\n",
    "import seaborn"
   ]
  },
  {
   "cell_type": "code",
   "execution_count": 21,
   "id": "a8b21b82",
   "metadata": {},
   "outputs": [],
   "source": [
    "Ages =[10,12,14,16,18,24,35,46,75,100]"
   ]
  },
  {
   "cell_type": "code",
   "execution_count": 22,
   "id": "b4123db1",
   "metadata": {},
   "outputs": [
    {
     "data": {
      "text/plain": [
       "35"
      ]
     },
     "execution_count": 22,
     "metadata": {},
     "output_type": "execute_result"
    }
   ],
   "source": [
    "statistics.mean(Ages)"
   ]
  },
  {
   "cell_type": "code",
   "execution_count": 23,
   "id": "a056d902",
   "metadata": {},
   "outputs": [
    {
     "data": {
      "text/plain": [
       "21.0"
      ]
     },
     "execution_count": 23,
     "metadata": {},
     "output_type": "execute_result"
    }
   ],
   "source": [
    "statistics.median(Ages)"
   ]
  },
  {
   "cell_type": "code",
   "execution_count": 24,
   "id": "0d772bbe",
   "metadata": {},
   "outputs": [
    {
     "data": {
      "text/plain": [
       "10"
      ]
     },
     "execution_count": 24,
     "metadata": {},
     "output_type": "execute_result"
    }
   ],
   "source": [
    "statistics.mode(Ages)"
   ]
  },
  {
   "cell_type": "code",
   "execution_count": 29,
   "id": "46a5acde",
   "metadata": {},
   "outputs": [
    {
     "data": {
      "text/plain": [
       "<AxesSubplot:ylabel='Count'>"
      ]
     },
     "execution_count": 29,
     "metadata": {},
     "output_type": "execute_result"
    },
    {
     "data": {
      "image/png": "[encoded data removed]",
      "text/plain": [
       "<Figure size 432x288 with 1 Axes>"
      ]
     },
     "metadata": {
      "needs_background": "light"
     },
     "output_type": "display_data"
    }
   ],
   "source": [
    "seaborn.histplot(Ages)"
   ]
  },
  {
   "cell_type": "code",
   "execution_count": 30,
   "id": "f45491ba",
   "metadata": {},
   "outputs": [],
   "source": [
    "A=[10,12,14,18,24,26,30,35,36,37,40,41,42,43,50,51,65,68,78,90,95,100]"
   ]
  },
  {
   "cell_type": "code",
   "execution_count": 31,
   "id": "79cbb16b",
   "metadata": {},
   "outputs": [
    {
     "data": {
      "text/plain": [
       "45.68181818181818"
      ]
     },
     "execution_count": 31,
     "metadata": {},
     "output_type": "execute_result"
    }
   ],
   "source": [
    "statistics.mean(A)"
   ]
  },
  {
   "cell_type": "code",
   "execution_count": 32,
   "id": "4bfd89d5",
   "metadata": {},
   "outputs": [
    {
     "data": {
      "text/plain": [
       "10"
      ]
     },
     "execution_count": 32,
     "metadata": {},
     "output_type": "execute_result"
    }
   ],
   "source": [
    "statistics.mode(A)"
   ]
  },
  {
   "cell_type": "code",
   "execution_count": 33,
   "id": "82fe86a0",
   "metadata": {},
   "outputs": [
    {
     "data": {
      "text/plain": [
       "40.5"
      ]
     },
     "execution_count": 33,
     "metadata": {},
     "output_type": "execute_result"
    }
   ],
   "source": [
    "statistics.median(A)"
   ]
  },
  {
   "cell_type": "code",
   "execution_count": 37,
   "id": "b7130226",
   "metadata": {},
   "outputs": [
    {
     "data": {
      "text/plain": [
       "<AxesSubplot:ylabel='Count'>"
      ]
     },
     "execution_count": 37,
     "metadata": {},
     "output_type": "execute_result"
    },
    {
     "data": {
      "image/png": "[encoded data removed]",
      "text/plain": [
       "<Figure size 432x288 with 1 Axes>"
      ]
     },
     "metadata": {
      "needs_background": "light"
     },
     "output_type": "display_data"
    }
   ],
   "source": [
    " seaborn.histplot(data=A,kde=True)"
   ]
  },
  {
   "cell_type": "code",
   "execution_count": 38,
   "id": "74e105a3",
   "metadata": {},
   "outputs": [],
   "source": [
    "#Discrete"
   ]
  },
  {
   "cell_type": "code",
   "execution_count": 48,
   "id": "0873dc2b",
   "metadata": {},
   "outputs": [
    {
     "data": {
      "text/plain": [
       "<AxesSubplot:ylabel='Count'>"
      ]
     },
     "execution_count": 48,
     "metadata": {},
     "output_type": "execute_result"
    },
    {
     "data": {
      "image/png": "[encoded data removed]",
      "text/plain": [
       "<Figure size 432x288 with 1 Axes>"
      ]
     },
     "metadata": {
      "needs_background": "light"
     },
     "output_type": "display_data"
    }
   ],
   "source": [
    "BankAccount=[2,3,5,1,4,5,3,7,8,3,2,4,5]\n",
    "seaborn.histplot(data=BankAccount , kde=True,bins=20)"
   ]
  },
  {
   "cell_type": "code",
   "execution_count": 50,
   "id": "432a282f",
   "metadata": {},
   "outputs": [
    {
     "data": {
      "text/plain": [
       "2"
      ]
     },
     "execution_count": 50,
     "metadata": {},
     "output_type": "execute_result"
    }
   ],
   "source": [
    "#variance\n",
    "#Population Variance\n",
    "a=[1,2,3,4,5]\n",
    "statistics.pvariance(a, mu=None)"
   ]
  },
  {
   "cell_type": "code",
   "execution_count": 52,
   "id": "770ac4a7",
   "metadata": {},
   "outputs": [
    {
     "data": {
      "text/plain": [
       "1.4142135623730951"
      ]
     },
     "execution_count": 52,
     "metadata": {},
     "output_type": "execute_result"
    }
   ],
   "source": [
    "#StandardDeviation\n",
    "statistics.pstdev(a)"
   ]
  },
  {
   "cell_type": "code",
   "execution_count": 54,
   "id": "b50182c0",
   "metadata": {},
   "outputs": [
    {
     "data": {
      "text/plain": [
       "1.0810874155219827"
      ]
     },
     "execution_count": 54,
     "metadata": {},
     "output_type": "execute_result"
    }
   ],
   "source": [
    "#samplestandarddeviation\n",
    "statistics.stdev([1.5, 2.5, 2.5, 2.75, 3.25, 4.75])"
   ]
  },
  {
   "cell_type": "code",
   "execution_count": 56,
   "id": "eb84bda9",
   "metadata": {},
   "outputs": [
    {
     "data": {
      "text/plain": [
       "1.3720238095238095"
      ]
     },
     "execution_count": 56,
     "metadata": {},
     "output_type": "execute_result"
    }
   ],
   "source": [
    "#samplevariance\n",
    "data = [2.75, 1.75, 1.25, 0.25, 0.5, 1.25, 3.5]\n",
    "statistics.variance(data)"
   ]
  },
  {
   "cell_type": "code",
   "execution_count": 61,
   "id": "1f6cdcdc",
   "metadata": {},
   "outputs": [
    {
     "name": "stdout",
     "output_type": "stream",
     "text": [
      "0.875\n",
      "2.25\n"
     ]
    }
   ],
   "source": [
    "import numpy as np\n",
    "q1=np.percentile(data , 25)\n",
    "q3=np.percentile(data , 75)\n",
    "print(q1)\n",
    "print(q3)\n"
   ]
  },
  {
   "cell_type": "code",
   "execution_count": 66,
   "id": "4e5037e7",
   "metadata": {},
   "outputs": [
    {
     "name": "stdout",
     "output_type": "stream",
     "text": [
      "-1.1875 4.3125\n"
     ]
    }
   ],
   "source": [
    "iqr=q3 - q1\n",
    "Lower_fence = q1- 1.5*(iqr)\n",
    "Higher_fence = q3+ 1.5*(iqr)\n",
    "print(Lower_fence,Higher_fence)"
   ]
  },
  {
   "cell_type": "code",
   "execution_count": 67,
   "id": "e38d711b",
   "metadata": {},
   "outputs": [
    {
     "name": "stderr",
     "output_type": "stream",
     "text": [
      "C:\\Users\\MANI RATNAM\\anaconda3\\lib\\site-packages\\seaborn\\_decorators.py:36: FutureWarning: Pass the following variable as a keyword arg: x. From version 0.12, the only valid positional argument will be `data`, and passing other arguments without an explicit keyword will result in an error or misinterpretation.\n",
      "  warnings.warn(\n"
     ]
    },
    {
     "data": {
      "text/plain": [
       "<AxesSubplot:>"
      ]
     },
     "execution_count": 67,
     "metadata": {},
     "output_type": "execute_result"
    },
    {
     "data": {
      "image/png": "[encoded data removed]",
      "text/plain": [
       "<Figure size 432x288 with 1 Axes>"
      ]
     },
     "metadata": {
      "needs_background": "light"
     },
     "output_type": "display_data"
    }
   ],
   "source": [
    "#5numbersummary\n",
    "sns.boxplot(data)"
   ]
  },
  {
   "cell_type": "code",
   "execution_count": null,
   "id": "3388a4d8",
   "metadata": {},
   "outputs": [],
   "source": []
  }
 ],
 "metadata": {
  "kernelspec": {
   "display_name": "Python 3 (ipykernel)",
   "language": "python",
   "name": "python3"
  },
  "language_info": {
   "codemirror_mode": {
    "name": "ipython",
    "version": 3
   },
   "file_extension": ".py",
   "mimetype": "text/x-python",
   "name": "python",
   "nbconvert_exporter": "python",
   "pygments_lexer": "ipython3",
   "version": "3.9.12"
  }
 },
 "nbformat": 4,
 "nbformat_minor": 5
}
