{
  "nbformat": 4,
  "nbformat_minor": 0,
  "metadata": {
    "colab": {
      "provenance": []
    },
    "kernelspec": {
      "name": "python3",
      "display_name": "Python 3"
    },
    "language_info": {
      "name": "python"
    }
  },
  "cells": [
    {
      "cell_type": "code",
      "execution_count": 2,
      "metadata": {
        "id": "UzM80U9zvTQP"
      },
      "outputs": [],
      "source": [
        "import numpy as np\n",
        "import pandas as pd\n",
        "import matplotlib.pyplot as plt\n",
        "%matplotlib inline"
      ]
    },
    {
      "cell_type": "code",
      "source": [
        "X = 6 * np.random.rand(100,1) - 3\n",
        "y=0.5 * X**2 + 1.5*X + 2 + np.random.rand(100,1)\n",
        "plt.scatter(X,y,color='g')\n",
        "plt.xlabel('X dataset')\n",
        "plt.ylabel('Y dataset')"
      ],
      "metadata": {
        "colab": {
          "base_uri": "https://localhost:8080/",
          "height": 466
        },
        "id": "ztVYJN3Cv1Iq",
        "outputId": "69647397-e866-4acb-80bd-8aa07449db92"
      },
      "execution_count": 3,
      "outputs": [
        {
          "output_type": "execute_result",
          "data": {
            "text/plain": [
              "Text(0, 0.5, 'Y dataset')"
            ]
          },
          "metadata": {},
          "execution_count": 3
        },
        {
          "output_type": "display_data",
          "data": {
            "text/plain": [
              "<Figure size 640x480 with 1 Axes>"
            ],
            "image/png": "[encoded data removed]"
          },
          "metadata": {}
        }
      ]
    },
    {
      "cell_type": "code",
      "source": [
        "from sklearn.model_selection import train_test_split"
      ],
      "metadata": {
        "id": "Ak5wFnxC03OH"
      },
      "execution_count": 4,
      "outputs": []
    },
    {
      "cell_type": "code",
      "source": [
        "X_train,X_test,y_train,y_test = train_test_split(X,y,test_size=0.2,random_state=42)"
      ],
      "metadata": {
        "id": "gQRfFNNLbuPn"
      },
      "execution_count": 5,
      "outputs": []
    },
    {
      "cell_type": "code",
      "source": [
        "from sklearn.linear_model import LinearRegression\n",
        "regression_1=LinearRegression()"
      ],
      "metadata": {
        "id": "eLNsX5uGcYMD"
      },
      "execution_count": 6,
      "outputs": []
    },
    {
      "cell_type": "code",
      "source": [
        "X_train"
      ],
      "metadata": {
        "colab": {
          "base_uri": "https://localhost:8080/"
        },
        "id": "MPCU7ObacjpB",
        "outputId": "10eed358-9e54-4ff5-e00a-15e2a6b8c847"
      },
      "execution_count": 7,
      "outputs": [
        {
          "output_type": "execute_result",
          "data": {
            "text/plain": [
              "array([[-0.1684336 ],\n",
              "       [ 2.93749275],\n",
              "       [ 2.66919298],\n",
              "       [ 0.44018063],\n",
              "       [ 1.76935145],\n",
              "       [-2.55735068],\n",
              "       [ 2.01915848],\n",
              "       [-0.34509553],\n",
              "       [-2.72770297],\n",
              "       [-1.59019668],\n",
              "       [ 0.4238333 ],\n",
              "       [ 2.38200003],\n",
              "       [ 0.23316346],\n",
              "       [ 2.11141363],\n",
              "       [-2.70198869],\n",
              "       [-2.18969084],\n",
              "       [ 0.75820048],\n",
              "       [ 0.91332149],\n",
              "       [-2.88443134],\n",
              "       [ 2.4569711 ],\n",
              "       [ 2.71358041],\n",
              "       [ 2.26937714],\n",
              "       [-0.85138527],\n",
              "       [ 2.69631611],\n",
              "       [-1.03768953],\n",
              "       [ 0.98602451],\n",
              "       [ 0.54023881],\n",
              "       [ 1.73231996],\n",
              "       [-0.59916196],\n",
              "       [-1.89210964],\n",
              "       [-1.98574141],\n",
              "       [-1.75284236],\n",
              "       [ 1.17480137],\n",
              "       [ 2.34345272],\n",
              "       [ 0.6209193 ],\n",
              "       [ 1.49451466],\n",
              "       [ 0.77257302],\n",
              "       [-1.75705926],\n",
              "       [ 1.98015566],\n",
              "       [-2.78519817],\n",
              "       [ 0.6243406 ],\n",
              "       [-2.5767338 ],\n",
              "       [ 1.77795517],\n",
              "       [-1.64104977],\n",
              "       [-2.88318108],\n",
              "       [-0.16975022],\n",
              "       [ 2.188721  ],\n",
              "       [ 1.80832116],\n",
              "       [-2.75857983],\n",
              "       [-2.49337004],\n",
              "       [-0.48259399],\n",
              "       [-1.46805266],\n",
              "       [ 1.30476461],\n",
              "       [-0.49142808],\n",
              "       [ 0.46819075],\n",
              "       [-1.06657119],\n",
              "       [-1.63958065],\n",
              "       [ 1.59349264],\n",
              "       [ 1.59673481],\n",
              "       [-0.59208468],\n",
              "       [ 0.27436977],\n",
              "       [ 1.64303247],\n",
              "       [ 2.23558794],\n",
              "       [ 0.01469529],\n",
              "       [-0.80156847],\n",
              "       [-1.58896566],\n",
              "       [ 1.05793522],\n",
              "       [-1.87035074],\n",
              "       [-1.76158925],\n",
              "       [-2.57463365],\n",
              "       [-2.08268108],\n",
              "       [-2.06637561],\n",
              "       [-0.0030759 ],\n",
              "       [-1.27852642],\n",
              "       [-1.71130189],\n",
              "       [ 2.74207758],\n",
              "       [-0.22875207],\n",
              "       [ 2.36983396],\n",
              "       [-1.19530975],\n",
              "       [ 2.12776404]])"
            ]
          },
          "metadata": {},
          "execution_count": 7
        }
      ]
    },
    {
      "cell_type": "code",
      "source": [
        "regression_1.fit(X_train,y_train)"
      ],
      "metadata": {
        "colab": {
          "base_uri": "https://localhost:8080/",
          "height": 74
        },
        "id": "s46liu0ucocw",
        "outputId": "ed13c0d7-6f02-4e86-a8a7-80c7787c8540"
      },
      "execution_count": 8,
      "outputs": [
        {
          "output_type": "execute_result",
          "data": {
            "text/plain": [
              "LinearRegression()"
            ],
            "text/html": [
              "<style>#sk-container-id-1 {color: black;background-color: white;}#sk-container-id-1 pre{padding: 0;}#sk-container-id-1 div.sk-toggleable {background-color: white;}#sk-container-id-1 label.sk-toggleable__label {cursor: pointer;display: block;width: 100%;margin-bottom: 0;padding: 0.3em;box-sizing: border-box;text-align: center;}#sk-container-id-1 label.sk-toggleable__label-arrow:before {content: \"▸\";float: left;margin-right: 0.25em;color: #696969;}#sk-container-id-1 label.sk-toggleable__label-arrow:hover:before {color: black;}#sk-container-id-1 div.sk-estimator:hover label.sk-toggleable__label-arrow:before {color: black;}#sk-container-id-1 div.sk-toggleable__content {max-height: 0;max-width: 0;overflow: hidden;text-align: left;background-color: #f0f8ff;}#sk-container-id-1 div.sk-toggleable__content pre {margin: 0.2em;color: black;border-radius: 0.25em;background-color: #f0f8ff;}#sk-container-id-1 input.sk-toggleable__control:checked~div.sk-toggleable__content {max-height: 200px;max-width: 100%;overflow: auto;}#sk-container-id-1 input.sk-toggleable__control:checked~label.sk-toggleable__label-arrow:before {content: \"▾\";}#sk-container-id-1 div.sk-estimator input.sk-toggleable__control:checked~label.sk-toggleable__label {background-color: #d4ebff;}#sk-container-id-1 div.sk-label input.sk-toggleable__control:checked~label.sk-toggleable__label {background-color: #d4ebff;}#sk-container-id-1 input.sk-hidden--visually {border: 0;clip: rect(1px 1px 1px 1px);clip: rect(1px, 1px, 1px, 1px);height: 1px;margin: -1px;overflow: hidden;padding: 0;position: absolute;width: 1px;}#sk-container-id-1 div.sk-estimator {font-family: monospace;background-color: #f0f8ff;border: 1px dotted black;border-radius: 0.25em;box-sizing: border-box;margin-bottom: 0.5em;}#sk-container-id-1 div.sk-estimator:hover {background-color: #d4ebff;}#sk-container-id-1 div.sk-parallel-item::after {content: \"\";width: 100%;border-bottom: 1px solid gray;flex-grow: 1;}#sk-container-id-1 div.sk-label:hover label.sk-toggleable__label {background-color: #d4ebff;}#sk-container-id-1 div.sk-serial::before {content: \"\";position: absolute;border-left: 1px solid gray;box-sizing: border-box;top: 0;bottom: 0;left: 50%;z-index: 0;}#sk-container-id-1 div.sk-serial {display: flex;flex-direction: column;align-items: center;background-color: white;padding-right: 0.2em;padding-left: 0.2em;position: relative;}#sk-container-id-1 div.sk-item {position: relative;z-index: 1;}#sk-container-id-1 div.sk-parallel {display: flex;align-items: stretch;justify-content: center;background-color: white;position: relative;}#sk-container-id-1 div.sk-item::before, #sk-container-id-1 div.sk-parallel-item::before {content: \"\";position: absolute;border-left: 1px solid gray;box-sizing: border-box;top: 0;bottom: 0;left: 50%;z-index: -1;}#sk-container-id-1 div.sk-parallel-item {display: flex;flex-direction: column;z-index: 1;position: relative;background-color: white;}#sk-container-id-1 div.sk-parallel-item:first-child::after {align-self: flex-end;width: 50%;}#sk-container-id-1 div.sk-parallel-item:last-child::after {align-self: flex-start;width: 50%;}#sk-container-id-1 div.sk-parallel-item:only-child::after {width: 0;}#sk-container-id-1 div.sk-dashed-wrapped {border: 1px dashed gray;margin: 0 0.4em 0.5em 0.4em;box-sizing: border-box;padding-bottom: 0.4em;background-color: white;}#sk-container-id-1 div.sk-label label {font-family: monospace;font-weight: bold;display: inline-block;line-height: 1.2em;}#sk-container-id-1 div.sk-label-container {text-align: center;}#sk-container-id-1 div.sk-container {/* jupyter's `normalize.less` sets `[hidden] { display: none; }` but bootstrap.min.css set `[hidden] { display: none !important; }` so we also need the `!important` here to be able to override the default hidden behavior on the sphinx rendered scikit-learn.org. See: https://github.com/scikit-learn/scikit-learn/issues/21755 */display: inline-block !important;position: relative;}#sk-container-id-1 div.sk-text-repr-fallback {display: none;}</style><div id=\"sk-container-id-1\" class=\"sk-top-container\"><div class=\"sk-text-repr-fallback\"><pre>LinearRegression()</pre><b>In a Jupyter environment, please rerun this cell to show the HTML representation or trust the notebook. <br />On GitHub, the HTML representation is unable to render, please try loading this page with nbviewer.org.</b></div><div class=\"sk-container\" hidden><div class=\"sk-item\"><div class=\"sk-estimator sk-toggleable\"><input class=\"sk-toggleable__control sk-hidden--visually\" id=\"sk-estimator-id-1\" type=\"checkbox\" checked><label for=\"sk-estimator-id-1\" class=\"sk-toggleable__label sk-toggleable__label-arrow\">LinearRegression</label><div class=\"sk-toggleable__content\"><pre>LinearRegression()</pre></div></div></div></div></div>"
            ]
          },
          "metadata": {},
          "execution_count": 8
        }
      ]
    },
    {
      "cell_type": "code",
      "source": [
        "\n",
        "from sklearn.metrics import r2_score\n",
        "score=r2_score(y_test,regression_1.predict(X_test))\n",
        "print(score)"
      ],
      "metadata": {
        "colab": {
          "base_uri": "https://localhost:8080/"
        },
        "id": "HnzqgFiTcvmx",
        "outputId": "8f1bfc7a-6a04-4867-a4e8-79799efe72fe"
      },
      "execution_count": 9,
      "outputs": [
        {
          "output_type": "stream",
          "name": "stdout",
          "text": [
            "0.7856541356739293\n"
          ]
        }
      ]
    },
    {
      "cell_type": "code",
      "source": [
        "plt.plot(X_train,regression_1.predict(X_train),color='r')\n",
        "plt.scatter(X_train,y_train)\n",
        "plt.xlabel(\"X Dataset\")\n",
        "plt.ylabel(\"Y\")"
      ],
      "metadata": {
        "colab": {
          "base_uri": "https://localhost:8080/",
          "height": 466
        },
        "id": "-inEl27rdhcx",
        "outputId": "ffda9b0c-9340-451a-9419-af51bd74c0db"
      },
      "execution_count": 10,
      "outputs": [
        {
          "output_type": "execute_result",
          "data": {
            "text/plain": [
              "Text(0, 0.5, 'Y')"
            ]
          },
          "metadata": {},
          "execution_count": 10
        },
        {
          "output_type": "display_data",
          "data": {
            "text/plain": [
              "<Figure size 640x480 with 1 Axes>"
            ],
            "image/png": "[encoded data removed]"
          },
          "metadata": {}
        }
      ]
    },
    {
      "cell_type": "code",
      "source": [
        "from sklearn.preprocessing import PolynomialFeatures"
      ],
      "metadata": {
        "id": "ANyuRT1ae_or"
      },
      "execution_count": 11,
      "outputs": []
    },
    {
      "cell_type": "code",
      "source": [
        "poly=PolynomialFeatures(degree=2,include_bias=True)"
      ],
      "metadata": {
        "id": "BnUSwRc8gZNT"
      },
      "execution_count": 12,
      "outputs": []
    },
    {
      "cell_type": "code",
      "source": [
        "X_train_poly=poly.fit_transform(X_train)\n",
        "X_test_poly=poly.transform(X_test)"
      ],
      "metadata": {
        "id": "JD23fy4Agh-0"
      },
      "execution_count": 13,
      "outputs": []
    },
    {
      "cell_type": "code",
      "source": [
        "X_train_poly"
      ],
      "metadata": {
        "colab": {
          "base_uri": "https://localhost:8080/"
        },
        "id": "ssteuiV9hpyc",
        "outputId": "25e1de08-a221-46ce-9730-703285bc3e79"
      },
      "execution_count": 14,
      "outputs": [
        {
          "output_type": "execute_result",
          "data": {
            "text/plain": [
              "array([[ 1.00000000e+00, -1.68433603e-01,  2.83698787e-02],\n",
              "       [ 1.00000000e+00,  2.93749275e+00,  8.62886368e+00],\n",
              "       [ 1.00000000e+00,  2.66919298e+00,  7.12459115e+00],\n",
              "       [ 1.00000000e+00,  4.40180634e-01,  1.93758991e-01],\n",
              "       [ 1.00000000e+00,  1.76935145e+00,  3.13060456e+00],\n",
              "       [ 1.00000000e+00, -2.55735068e+00,  6.54004248e+00],\n",
              "       [ 1.00000000e+00,  2.01915848e+00,  4.07700098e+00],\n",
              "       [ 1.00000000e+00, -3.45095532e-01,  1.19090926e-01],\n",
              "       [ 1.00000000e+00, -2.72770297e+00,  7.44036347e+00],\n",
              "       [ 1.00000000e+00, -1.59019668e+00,  2.52872547e+00],\n",
              "       [ 1.00000000e+00,  4.23833297e-01,  1.79634663e-01],\n",
              "       [ 1.00000000e+00,  2.38200003e+00,  5.67392413e+00],\n",
              "       [ 1.00000000e+00,  2.33163463e-01,  5.43652005e-02],\n",
              "       [ 1.00000000e+00,  2.11141363e+00,  4.45806750e+00],\n",
              "       [ 1.00000000e+00, -2.70198869e+00,  7.30074290e+00],\n",
              "       [ 1.00000000e+00, -2.18969084e+00,  4.79474599e+00],\n",
              "       [ 1.00000000e+00,  7.58200477e-01,  5.74867963e-01],\n",
              "       [ 1.00000000e+00,  9.13321495e-01,  8.34156153e-01],\n",
              "       [ 1.00000000e+00, -2.88443134e+00,  8.31994418e+00],\n",
              "       [ 1.00000000e+00,  2.45697110e+00,  6.03670697e+00],\n",
              "       [ 1.00000000e+00,  2.71358041e+00,  7.36351865e+00],\n",
              "       [ 1.00000000e+00,  2.26937714e+00,  5.15007261e+00],\n",
              "       [ 1.00000000e+00, -8.51385272e-01,  7.24856882e-01],\n",
              "       [ 1.00000000e+00,  2.69631611e+00,  7.27012054e+00],\n",
              "       [ 1.00000000e+00, -1.03768953e+00,  1.07679956e+00],\n",
              "       [ 1.00000000e+00,  9.86024506e-01,  9.72244327e-01],\n",
              "       [ 1.00000000e+00,  5.40238808e-01,  2.91857970e-01],\n",
              "       [ 1.00000000e+00,  1.73231996e+00,  3.00093246e+00],\n",
              "       [ 1.00000000e+00, -5.99161963e-01,  3.58995058e-01],\n",
              "       [ 1.00000000e+00, -1.89210964e+00,  3.58007889e+00],\n",
              "       [ 1.00000000e+00, -1.98574141e+00,  3.94316894e+00],\n",
              "       [ 1.00000000e+00, -1.75284236e+00,  3.07245635e+00],\n",
              "       [ 1.00000000e+00,  1.17480137e+00,  1.38015827e+00],\n",
              "       [ 1.00000000e+00,  2.34345272e+00,  5.49177067e+00],\n",
              "       [ 1.00000000e+00,  6.20919302e-01,  3.85540780e-01],\n",
              "       [ 1.00000000e+00,  1.49451466e+00,  2.23357406e+00],\n",
              "       [ 1.00000000e+00,  7.72573023e-01,  5.96869076e-01],\n",
              "       [ 1.00000000e+00, -1.75705926e+00,  3.08725723e+00],\n",
              "       [ 1.00000000e+00,  1.98015566e+00,  3.92101643e+00],\n",
              "       [ 1.00000000e+00, -2.78519817e+00,  7.75732886e+00],\n",
              "       [ 1.00000000e+00,  6.24340600e-01,  3.89801185e-01],\n",
              "       [ 1.00000000e+00, -2.57673380e+00,  6.63955707e+00],\n",
              "       [ 1.00000000e+00,  1.77795517e+00,  3.16112459e+00],\n",
              "       [ 1.00000000e+00, -1.64104977e+00,  2.69304436e+00],\n",
              "       [ 1.00000000e+00, -2.88318108e+00,  8.31273312e+00],\n",
              "       [ 1.00000000e+00, -1.69750225e-01,  2.88151387e-02],\n",
              "       [ 1.00000000e+00,  2.18872100e+00,  4.79049962e+00],\n",
              "       [ 1.00000000e+00,  1.80832116e+00,  3.27002541e+00],\n",
              "       [ 1.00000000e+00, -2.75857983e+00,  7.60976267e+00],\n",
              "       [ 1.00000000e+00, -2.49337004e+00,  6.21689416e+00],\n",
              "       [ 1.00000000e+00, -4.82593986e-01,  2.32896955e-01],\n",
              "       [ 1.00000000e+00, -1.46805266e+00,  2.15517862e+00],\n",
              "       [ 1.00000000e+00,  1.30476461e+00,  1.70241070e+00],\n",
              "       [ 1.00000000e+00, -4.91428084e-01,  2.41501561e-01],\n",
              "       [ 1.00000000e+00,  4.68190755e-01,  2.19202583e-01],\n",
              "       [ 1.00000000e+00, -1.06657119e+00,  1.13757410e+00],\n",
              "       [ 1.00000000e+00, -1.63958065e+00,  2.68822470e+00],\n",
              "       [ 1.00000000e+00,  1.59349264e+00,  2.53921880e+00],\n",
              "       [ 1.00000000e+00,  1.59673481e+00,  2.54956206e+00],\n",
              "       [ 1.00000000e+00, -5.92084679e-01,  3.50564267e-01],\n",
              "       [ 1.00000000e+00,  2.74369772e-01,  7.52787718e-02],\n",
              "       [ 1.00000000e+00,  1.64303247e+00,  2.69955570e+00],\n",
              "       [ 1.00000000e+00,  2.23558794e+00,  4.99785342e+00],\n",
              "       [ 1.00000000e+00,  1.46952877e-02,  2.15951482e-04],\n",
              "       [ 1.00000000e+00, -8.01568468e-01,  6.42512009e-01],\n",
              "       [ 1.00000000e+00, -1.58896566e+00,  2.52481186e+00],\n",
              "       [ 1.00000000e+00,  1.05793522e+00,  1.11922692e+00],\n",
              "       [ 1.00000000e+00, -1.87035074e+00,  3.49821191e+00],\n",
              "       [ 1.00000000e+00, -1.76158925e+00,  3.10319667e+00],\n",
              "       [ 1.00000000e+00, -2.57463365e+00,  6.62873845e+00],\n",
              "       [ 1.00000000e+00, -2.08268108e+00,  4.33756047e+00],\n",
              "       [ 1.00000000e+00, -2.06637561e+00,  4.26990815e+00],\n",
              "       [ 1.00000000e+00, -3.07589892e-03,  9.46115415e-06],\n",
              "       [ 1.00000000e+00, -1.27852642e+00,  1.63462982e+00],\n",
              "       [ 1.00000000e+00, -1.71130189e+00,  2.92855416e+00],\n",
              "       [ 1.00000000e+00,  2.74207758e+00,  7.51898943e+00],\n",
              "       [ 1.00000000e+00, -2.28752073e-01,  5.23275111e-02],\n",
              "       [ 1.00000000e+00,  2.36983396e+00,  5.61611300e+00],\n",
              "       [ 1.00000000e+00, -1.19530975e+00,  1.42876539e+00],\n",
              "       [ 1.00000000e+00,  2.12776404e+00,  4.52737980e+00]])"
            ]
          },
          "metadata": {},
          "execution_count": 14
        }
      ]
    },
    {
      "cell_type": "code",
      "source": [
        "from sklearn.metrics import r2_score\n",
        "regression = LinearRegression()\n",
        "regression.fit(X_train_poly,y_train)\n",
        "y_pred=regression.predict(X_test_poly)\n",
        "score=r2_score(y_test,y_pred)\n",
        "print(score)"
      ],
      "metadata": {
        "colab": {
          "base_uri": "https://localhost:8080/"
        },
        "id": "H63LoELBh5jr",
        "outputId": "e8b4cc52-3d47-4a0a-e7f1-90230072ee97"
      },
      "execution_count": 15,
      "outputs": [
        {
          "output_type": "stream",
          "name": "stdout",
          "text": [
            "0.9926784694651687\n"
          ]
        }
      ]
    },
    {
      "cell_type": "code",
      "source": [
        "print(regression.coef_)"
      ],
      "metadata": {
        "colab": {
          "base_uri": "https://localhost:8080/"
        },
        "id": "6Yc5VSY3Hg5B",
        "outputId": "656bff73-b5ac-47a0-f9a9-b9c3f62d5665"
      },
      "execution_count": 16,
      "outputs": [
        {
          "output_type": "stream",
          "name": "stdout",
          "text": [
            "[[0.         1.50903463 0.48688601]]\n"
          ]
        }
      ]
    },
    {
      "cell_type": "code",
      "source": [
        "print(regression.intercept_)"
      ],
      "metadata": {
        "colab": {
          "base_uri": "https://localhost:8080/"
        },
        "id": "rs37oRzSHxii",
        "outputId": "b5984948-e0ef-4c41-f906-dfab594f9fce"
      },
      "execution_count": 17,
      "outputs": [
        {
          "output_type": "stream",
          "name": "stdout",
          "text": [
            "[2.49303115]\n"
          ]
        }
      ]
    },
    {
      "cell_type": "code",
      "source": [
        "plt.scatter(X_train,regression.predict(X_train_poly))\n",
        "plt.scatter(X_train,y_train)"
      ],
      "metadata": {
        "colab": {
          "base_uri": "https://localhost:8080/",
          "height": 447
        },
        "id": "e-wGANdIH2Dr",
        "outputId": "b96374fd-c9e6-4b0a-b213-98d9afe2cb0b"
      },
      "execution_count": 20,
      "outputs": [
        {
          "output_type": "execute_result",
          "data": {
            "text/plain": [
              "<matplotlib.collections.PathCollection at 0x79adf539c550>"
            ]
          },
          "metadata": {},
          "execution_count": 20
        },
        {
          "output_type": "display_data",
          "data": {
            "text/plain": [
              "<Figure size 640x480 with 1 Axes>"
            ],
            "image/png": "[encoded data removed]"
          },
          "metadata": {}
        }
      ]
    },
    {
      "cell_type": "code",
      "source": [
        "plt.scatter(X_train,y_train)"
      ],
      "metadata": {
        "colab": {
          "base_uri": "https://localhost:8080/",
          "height": 447
        },
        "id": "T3hVkEoKIDWE",
        "outputId": "13d895d6-c45d-403d-b38f-ae5bac61d2b3"
      },
      "execution_count": 19,
      "outputs": [
        {
          "output_type": "execute_result",
          "data": {
            "text/plain": [
              "<matplotlib.collections.PathCollection at 0x79adf53d3100>"
            ]
          },
          "metadata": {},
          "execution_count": 19
        },
        {
          "output_type": "display_data",
          "data": {
            "text/plain": [
              "<Figure size 640x480 with 1 Axes>"
            ],
            "image/png": "[encoded data removed]"
          },
          "metadata": {}
        }
      ]
    },
    {
      "cell_type": "code",
      "source": [],
      "metadata": {
        "id": "nFoJBoAsIO0U"
      },
      "execution_count": null,
      "outputs": []
    }
  ]
}